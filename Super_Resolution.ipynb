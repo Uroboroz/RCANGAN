{
 "cells": [
  {
   "cell_type": "code",
   "execution_count": 0,
   "metadata": {
    "id": "G9Q8GoFH26Rs",
    "colab_type": "code",
    "colab": {}
   },
   "outputs": [],
   "source": [
    "!pip3 install http://download.pytorch.org/whl/cu80/torch-0.4.0-cp36-cp36m-linux_x86_64.whl \n",
    "!pip3 install torchvision\n",
    "!pip install Pillow==4.0.0\n",
    "!pip install PIL\n",
    "!pip install image"
   ]
  },
  {
   "cell_type": "code",
   "execution_count": 0,
   "metadata": {
    "id": "UAl79z5m2mEX",
    "colab_type": "code",
    "colab": {}
   },
   "outputs": [],
   "source": [
    "!wget -x --load-cookies cookies.txt --cut-dirs=5 https://www.kaggle.com/evgeniumakov/images4k/downloads/Dataset4K.zip\n",
    "!unzip ./www.kaggle.com/Dataset4K -d Dataset4K >> temp_log\n",
    "\n",
    "import os\n",
    "os.remove(\"./Dataset4K/Dataset4K/Thumbs.db\")\n",
    "os.remove(\"./Dataset4K/Dataset4K/4k-3840-x-2160-wallpapers-themefoxx (275).jpg\")"
   ]
  },
  {
   "cell_type": "code",
   "execution_count": 0,
   "metadata": {
    "id": "cM2ko0l42jfq",
    "colab_type": "code",
    "colab": {}
   },
   "outputs": [],
   "source": [
    "import scipy\n",
    "from scipy import misc\n",
    "from scipy import ndimage\n",
    "import numpy as np\n",
    "\n",
    "import torch\n",
    "import torch.nn.functional as F\n",
    "from torch.utils.data import DataLoader\n",
    "\n",
    "from DataLoader import Loader\n",
    "from Generator import GenGAN\n",
    "from Discriminator import DiscGAN\n",
    "\n",
    "import matplotlib.pyplot as plt\n",
    "%matplotlib inline"
   ]
  },
  {
   "cell_type": "code",
   "execution_count": 0,
   "metadata": {
    "id": "mLzRGl1KS5f2",
    "colab_type": "code",
    "colab": {}
   },
   "outputs": [],
   "source": [
    "torch.set_default_tensor_type('torch.FloatTensor')\n",
    "\n",
    "batch_size = 20\n",
    "lr = 10e-4\n",
    "loader = Loader(path=\"./Dataset4K\", crop_size=2160)\n",
    "gpu = torch.device(\"cuda:0\" if torch.cuda.is_available() else \"cpu\")\n",
    "cpu = torch.device(\"cpu\")\n",
    "\n",
    "\n",
    "scale_input_data = 3\n",
    "scale = 4\n",
    "n_resgroups = 1\n",
    "n_resblocks = 10\n",
    "n_feats = 6\n",
    "reduction = 4\n",
    "n_colors = 3\n",
    "res_scale = 1"
   ]
  },
  {
   "cell_type": "code",
   "execution_count": 0,
   "metadata": {
    "id": "15gRKVTxS5f5",
    "colab_type": "code",
    "colab": {}
   },
   "outputs": [],
   "source": [
    "discriminator = DiscGAN(ff=44, latent_size=1000, device=gpu)\n",
    "D_optimizer = torch.optim.Adam(discriminator.parameters(), lr=lr)\n",
    "\n",
    "generator = GenGAN(n_resgroups, n_resblocks, n_feats, reduction, n_colors, res_scale, scale, device=gpu)\n",
    "G_optimizer = torch.optim.Adam(generator.parameters(), lr=lr)"
   ]
  },
  {
   "cell_type": "code",
   "execution_count": 0,
   "metadata": {
    "id": "rUQbgVP_S5f9",
    "colab_type": "code",
    "colab": {}
   },
   "outputs": [],
   "source": [
    "def rescale(image, degree_compress=0.125):\n",
    "    return np.array([ndimage.zoom(channel_image, degree_compress) for channel_image in image])"
   ]
  },
  {
   "cell_type": "code",
   "execution_count": 0,
   "metadata": {
    "id": "KCNd5pPUS5gA",
    "colab_type": "code",
    "colab": {}
   },
   "outputs": [],
   "source": [
    "def bath_rescale(batch, degree_compress=0.125):\n",
    "    return torch.Tensor([rescale(image/255, degree_compress) for image in batch.data.numpy()])"
   ]
  },
  {
   "cell_type": "code",
   "execution_count": 0,
   "metadata": {
    "id": "4Uyw5bwZ2Jrn",
    "colab_type": "code",
    "colab": {}
   },
   "outputs": [],
   "source": [
    "def pretrain_Descriminator():\n",
    "    train_size = len(loader)\n",
    "    for batch_idx, (data, _) in enumerate(DataLoader(loader, batch_size=batch_size)):\n",
    "        # train D\n",
    "        discriminator.zero_grad()\n",
    "        data_low = bath_resize(bath_resize(data, 1/(scale_input_data*scale)), scale)\n",
    "        fake_pred = discriminator(data_low.to(gpu))\n",
    "        true_pred = discriminator(bath_resize(data, 1/scale_input_data).to(gpu))\n",
    "\n",
    "        fake_loss = F.mse_loss(fake_pred, true_pred)\n",
    "        true_loss = F.mse_loss(true_pred, true_pred)\n",
    "\n",
    "        D_loss = 0.5 * (fake_loss + true_loss)\n",
    "\n",
    "        D_loss.backward()\n",
    "        D_optimizer.step()\n",
    "        \n",
    "        torch.save(discriminator.state_dict(), \"./pretrain_dicriminator.mdl\")\n",
    "        torch.cuda.empty_cache()\n",
    "        \n",
    "        line = 'Train Epoch: [{}/{} ({:.0f}%)]\\tLosses '.format(\n",
    "            batch_idx * len(data), train_size, 100. * batch_idx / train_size)\n",
    "        losses = 'D: {:.4f}'.format(D_loss.item())\n",
    "        print(line + losses)"
   ]
  },
  {
   "cell_type": "code",
   "execution_count": 0,
   "metadata": {
    "id": "Zu8QDrFlS5gT",
    "colab_type": "code",
    "colab": {}
   },
   "outputs": [],
   "source": [
    "def train_GAN():\n",
    "    global D_optimizer\n",
    "    global G_optimizer\n",
    "    train_size = len(loader)\n",
    "    for batch_idx, (data, _) in enumerate(DataLoader(loader, batch_size=batch_size, shuffle=True)):    \n",
    "        # train D\n",
    "        generator.zero_grad()\n",
    "        discriminator.zero_grad()\n",
    "        data_false = bath_rescale(bath_rescale(data, 1/(scale_input_data*scale)), scale).to(gpu)\n",
    "        data_true = bath_rescale(data, 1/scale_input_data).to(gpu)\n",
    "        \n",
    "        fake_pred = discriminator(data_false)\n",
    "        true_pred = discriminator(data_true)\n",
    "\n",
    "        fake_loss = F.mse_loss(fake_pred, true_pred)\n",
    "        true_loss = F.mse_loss(true_pred, true_pred)\n",
    "\n",
    "        D_loss = 0.5 * (fake_loss + true_loss)\n",
    "\n",
    "        D_loss.backward()\n",
    "        D_optimizer.step()\n",
    "        torch.save(discriminator.state_dict(), \"./train_dicriminator.mdl\")\n",
    "        \n",
    "        \n",
    "        # train G\n",
    "        discriminator.zero_grad()\n",
    "        generator.zero_grad()\n",
    "        fake_pred = discriminator(generator(bath_rescale(data, 1/(scale_input_data*scale)).to(gpu)))\n",
    "        true_pred = discriminator(data_true)\n",
    "        G_loss = F.mse_loss(fake_pred, true_pred)\n",
    "        \n",
    "        G_loss.backward()\n",
    "        G_optimizer.step()\n",
    "        torch.save(generator.state_dict(), \"./train_generator.mdl\")\n",
    "        \n",
    "        del data_false\n",
    "        del data_true\n",
    "        del fake_pred\n",
    "        del true_pred\n",
    "        torch.cuda.empty_cache()    \n",
    "        \n",
    "        if D_loss.item() < 0.001:\n",
    "            D_optimizer = torch.optim.Adam(discriminator.parameters(), lr=lr)\n",
    "            G_optimizer = torch.optim.Adam(generator.parameters(), lr=lr)\n",
    "              \n",
    "        line = 'Train Epoch: [{}/{} ({:.0f}%)]\\tLosses '.format(\n",
    "            batch_idx * len(data), train_size, 100. * batch_idx / train_size)\n",
    "        losses = 'G: {:.6f}, D: {:.6f}'.format(G_loss.item(), D_loss.item())\n",
    "        print(line + losses)\n"
   ]
  },
  {
   "cell_type": "code",
   "execution_count": 0,
   "metadata": {
    "id": "UwntkCxAS5gX",
    "colab_type": "code",
    "colab": {}
   },
   "outputs": [],
   "source": [
    "train_GAN()"
   ]
  },
  {
   "cell_type": "code",
   "execution_count": 0,
   "metadata": {
    "id": "kGcIkr9rS5g2",
    "colab_type": "code",
    "colab": {}
   },
   "outputs": [],
   "source": [
    ""
   ]
  }
 ],
 "metadata": {
  "colab": {
   "name": "Copy of Super Resolution",
   "version": "0.3.2",
   "provenance": [],
   "collapsed_sections": [],
   "toc_visible": true
  },
  "kernelspec": {
   "display_name": "Python 3",
   "language": "python",
   "name": "python3"
  }
 },
 "nbformat": 4,
 "nbformat_minor": 0
}
